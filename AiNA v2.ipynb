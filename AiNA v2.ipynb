{
  "nbformat": 4,
  "nbformat_minor": 0,
  "metadata": {
    "colab": {
      "provenance": []
    },
    "kernelspec": {
      "name": "python3",
      "display_name": "Python 3"
    },
    "language_info": {
      "name": "python"
    }
  },
  "cells": [
    {
      "cell_type": "markdown",
      "source": [
        "Модель определяет позитивную, нейтральную или негативную эмоцию содержит в себе текст."
      ],
      "metadata": {
        "id": "Bt0_bQdwqS3e"
      }
    },
    {
      "cell_type": "markdown",
      "source": [
        "Группа: Груздев Илья, Касимов Тимерхан."
      ],
      "metadata": {
        "id": "y1Sir3yKqVW9"
      }
    },
    {
      "cell_type": "code",
      "source": [
        "!pip install transformers sentencepiece"
      ],
      "metadata": {
        "colab": {
          "base_uri": "https://localhost:8080/"
        },
        "id": "Pg31mv0nsfRE",
        "outputId": "18b4a3a1-0b4a-4039-e486-650db76f553b"
      },
      "execution_count": 69,
      "outputs": [
        {
          "output_type": "stream",
          "name": "stdout",
          "text": [
            "Requirement already satisfied: transformers in /usr/local/lib/python3.10/dist-packages (4.44.2)\n",
            "Requirement already satisfied: sentencepiece in /usr/local/lib/python3.10/dist-packages (0.2.0)\n",
            "Requirement already satisfied: filelock in /usr/local/lib/python3.10/dist-packages (from transformers) (3.16.1)\n",
            "Requirement already satisfied: huggingface-hub<1.0,>=0.23.2 in /usr/local/lib/python3.10/dist-packages (from transformers) (0.24.7)\n",
            "Requirement already satisfied: numpy>=1.17 in /usr/local/lib/python3.10/dist-packages (from transformers) (1.26.4)\n",
            "Requirement already satisfied: packaging>=20.0 in /usr/local/lib/python3.10/dist-packages (from transformers) (24.1)\n",
            "Requirement already satisfied: pyyaml>=5.1 in /usr/local/lib/python3.10/dist-packages (from transformers) (6.0.2)\n",
            "Requirement already satisfied: regex!=2019.12.17 in /usr/local/lib/python3.10/dist-packages (from transformers) (2024.9.11)\n",
            "Requirement already satisfied: requests in /usr/local/lib/python3.10/dist-packages (from transformers) (2.32.3)\n",
            "Requirement already satisfied: safetensors>=0.4.1 in /usr/local/lib/python3.10/dist-packages (from transformers) (0.4.5)\n",
            "Requirement already satisfied: tokenizers<0.20,>=0.19 in /usr/local/lib/python3.10/dist-packages (from transformers) (0.19.1)\n",
            "Requirement already satisfied: tqdm>=4.27 in /usr/local/lib/python3.10/dist-packages (from transformers) (4.66.6)\n",
            "Requirement already satisfied: fsspec>=2023.5.0 in /usr/local/lib/python3.10/dist-packages (from huggingface-hub<1.0,>=0.23.2->transformers) (2024.10.0)\n",
            "Requirement already satisfied: typing-extensions>=3.7.4.3 in /usr/local/lib/python3.10/dist-packages (from huggingface-hub<1.0,>=0.23.2->transformers) (4.12.2)\n",
            "Requirement already satisfied: charset-normalizer<4,>=2 in /usr/local/lib/python3.10/dist-packages (from requests->transformers) (3.4.0)\n",
            "Requirement already satisfied: idna<4,>=2.5 in /usr/local/lib/python3.10/dist-packages (from requests->transformers) (3.10)\n",
            "Requirement already satisfied: urllib3<3,>=1.21.1 in /usr/local/lib/python3.10/dist-packages (from requests->transformers) (2.2.3)\n",
            "Requirement already satisfied: certifi>=2017.4.17 in /usr/local/lib/python3.10/dist-packages (from requests->transformers) (2024.8.30)\n"
          ]
        }
      ]
    },
    {
      "cell_type": "code",
      "source": [
        "!pip install -q streamlit"
      ],
      "metadata": {
        "id": "MlGj-G3qzeaA"
      },
      "execution_count": 70,
      "outputs": []
    },
    {
      "cell_type": "code",
      "source": [
        "import streamlit as st"
      ],
      "metadata": {
        "id": "cfIfhIpuzrrg"
      },
      "execution_count": 71,
      "outputs": []
    },
    {
      "cell_type": "code",
      "source": [
        "from transformers import pipeline\n",
        "model = pipeline(model=\"seara/rubert-tiny2-russian-sentiment\")"
      ],
      "metadata": {
        "id": "pCUu1IKVf3J3"
      },
      "execution_count": 72,
      "outputs": []
    },
    {
      "cell_type": "code",
      "source": [
        "def Em_T(x):\n",
        "  model = pipeline(model=\"seara/rubert-tiny2-russian-sentiment\")\n",
        "  return model(x)"
      ],
      "metadata": {
        "id": "aVzZKJDxiDis"
      },
      "execution_count": 73,
      "outputs": []
    },
    {
      "cell_type": "code",
      "source": [
        "st.title('Определить настроение по тексту')\n",
        "\n",
        "st.warning('Чтобы остановить программу напишите \"стоп\"')\n",
        "\n",
        "inp = st.text_input('Введите фразу, а я определю ваше настроение: ')\n",
        "\n",
        "x = Em_T(inp)[0]\n",
        "acc = round(x['score'] * 100, 3)\n",
        "\n",
        "st.text(f'Я уверена на {acc}%')\n",
        "\n",
        "if x['label'] == 'negative':\n",
        "  st.error('У вас плохое настроение')\n",
        "elif x['label'] == 'positive':\n",
        "  st.success('У вас хорошее настроение')\n",
        "else:\n",
        "  st.warning('У вас нейтральное настроение')"
      ],
      "metadata": {
        "colab": {
          "base_uri": "https://localhost:8080/"
        },
        "id": "ii4Ea5A7zzFI",
        "outputId": "a515b09b-dc81-4581-f235-87bea78aa9bb"
      },
      "execution_count": 74,
      "outputs": [
        {
          "output_type": "stream",
          "name": "stderr",
          "text": [
            "2024-11-01 14:56:26.367 Thread 'MainThread': missing ScriptRunContext! This warning can be ignored when running in bare mode.\n",
            "2024-11-01 14:56:26.378 Thread 'MainThread': missing ScriptRunContext! This warning can be ignored when running in bare mode.\n",
            "2024-11-01 14:56:26.391 Thread 'MainThread': missing ScriptRunContext! This warning can be ignored when running in bare mode.\n",
            "2024-11-01 14:56:26.394 Thread 'MainThread': missing ScriptRunContext! This warning can be ignored when running in bare mode.\n",
            "2024-11-01 14:56:26.396 Thread 'MainThread': missing ScriptRunContext! This warning can be ignored when running in bare mode.\n",
            "2024-11-01 14:56:26.399 Thread 'MainThread': missing ScriptRunContext! This warning can be ignored when running in bare mode.\n",
            "2024-11-01 14:56:26.401 Thread 'MainThread': missing ScriptRunContext! This warning can be ignored when running in bare mode.\n",
            "2024-11-01 14:56:26.404 Thread 'MainThread': missing ScriptRunContext! This warning can be ignored when running in bare mode.\n",
            "2024-11-01 14:56:26.406 Thread 'MainThread': missing ScriptRunContext! This warning can be ignored when running in bare mode.\n",
            "2024-11-01 14:56:26.411 Thread 'MainThread': missing ScriptRunContext! This warning can be ignored when running in bare mode.\n",
            "2024-11-01 14:56:27.091 Thread 'MainThread': missing ScriptRunContext! This warning can be ignored when running in bare mode.\n",
            "2024-11-01 14:56:27.095 Thread 'MainThread': missing ScriptRunContext! This warning can be ignored when running in bare mode.\n",
            "2024-11-01 14:56:27.099 Thread 'MainThread': missing ScriptRunContext! This warning can be ignored when running in bare mode.\n",
            "2024-11-01 14:56:27.101 Thread 'MainThread': missing ScriptRunContext! This warning can be ignored when running in bare mode.\n"
          ]
        }
      ]
    },
    {
      "cell_type": "code",
      "source": [
        "#print('Стоп-слово --> стоп')\n",
        "\n",
        "#while True:\n",
        "#  inp = str(input('Напиши фразу, а я определю твое настроение --> '))\n",
        "#  print('-'*10)\n",
        "#  if inp.lower() == 'стоп':\n",
        "#    print('Программа остановлена')\n",
        "#    break\n",
        "#  x = Em_T(inp)[0]\n",
        "\n",
        "#  acc = round(x['score'] * 100, 3)\n",
        "#  print('Я уверена на', acc ,'%')\n",
        "\n",
        "#  if x['label'] == 'negative':\n",
        "#    print('У вас плохое настроение :~(')\n",
        "#  elif x['label'] == 'positive':\n",
        "#    print(\"У вас хорошее настроение :~)\")\n",
        "#  else:\n",
        "#    print(\"У вас нейтральное настроение -_-\")\n",
        "#  print('-'*10)\n"
      ],
      "metadata": {
        "id": "wbDH_59siUaV"
      },
      "execution_count": 75,
      "outputs": []
    }
  ]
}